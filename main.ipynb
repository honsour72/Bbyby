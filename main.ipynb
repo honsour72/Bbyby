{
  "nbformat": 4,
  "nbformat_minor": 0,
  "metadata": {
    "colab": {
      "name": "1221_GroupIB_v5.ipynb",
      "provenance": [],
      "collapsed_sections": []
    },
    "kernelspec": {
      "name": "python3",
      "display_name": "Python 3"
    },
    "language_info": {
      "name": "python"
    }
  },
  "cells": [
    {
      "cell_type": "code",
      "execution_count": 1,
      "metadata": {
        "id": "A0ksPu74YPFD"
      },
      "outputs": [],
      "source": [
        "import pandas as pd\n",
        "import numpy as np\n",
        "import mailbox\n",
        "import re\n",
        "from sklearn.feature_extraction.text import TfidfVectorizer\n",
        "from sklearn.svm import OneClassSVM\n",
        "from scipy.sparse import hstack\n",
        "import scipy"
      ]
    },
    {
      "cell_type": "code",
      "source": [
        "trainfile = '/content/drive/MyDrive/groupib/train.mbox'\n",
        "testfile = '/content/drive/MyDrive/groupib/test.mbox'"
      ],
      "metadata": {
        "id": "f19_TsuckrVh"
      },
      "execution_count": 2,
      "outputs": []
    },
    {
      "cell_type": "markdown",
      "source": [
        "## Парсинг данных"
      ],
      "metadata": {
        "id": "QamZqbkpjeMS"
      }
    },
    {
      "cell_type": "code",
      "source": [
        "def read_mbox(mb_file):\n",
        "    mb = mailbox.mbox(mb_file)\n",
        "    mbox_dict = {}\n",
        "\n",
        "    for i, mail in enumerate(mb):\n",
        "        mbox_dict[i] = {}\n",
        "        for header in mail.keys():\n",
        "            mbox_dict[i][header] = mail[header]\n",
        "        mbox_dict[i]['Text'] = mail.get_payload()\n",
        "    df = pd.DataFrame.from_dict(mbox_dict, orient='index')\n",
        "    return df"
      ],
      "metadata": {
        "id": "e2FHapxhr1e_"
      },
      "execution_count": 3,
      "outputs": []
    },
    {
      "cell_type": "code",
      "source": [
        "def read_msg(mb_msg):\n",
        "    if type(mb_msg) == list:\n",
        "        mb = mailbox.mboxMessage(mb_msg[0])\n",
        "        return mb.get_payload()\n",
        "    else:\n",
        "        return mb_msg"
      ],
      "metadata": {
        "id": "mu3mLxKPHqCm"
      },
      "execution_count": 4,
      "outputs": []
    },
    {
      "cell_type": "code",
      "source": [
        "train = read_mbox(trainfile)\n",
        "test = read_mbox(testfile)\n",
        "test['Text'] = test['Text'].apply(read_msg)"
      ],
      "metadata": {
        "id": "aJuK3Pg_FAN5"
      },
      "execution_count": 5,
      "outputs": []
    },
    {
      "cell_type": "markdown",
      "source": [
        "## Препроцессинг"
      ],
      "metadata": {
        "id": "Qvq9HjZYjj4t"
      }
    },
    {
      "cell_type": "code",
      "source": [
        "def subject_cleaner(text):\n",
        "  text = text.str.strip()\n",
        "  text = text.str.lower()\n",
        "  return text"
      ],
      "metadata": {
        "id": "hHiYezNejYii"
      },
      "execution_count": 6,
      "outputs": []
    },
    {
      "cell_type": "code",
      "source": [
        "def body_cleaner(text):\n",
        "    # text = text.str.replace(r'<[^>]+>', '')\n",
        "    # text = text.str.replace(r'{[^}]+}', '')\n",
        "    text = text.str.replace(r'#message', '')\n",
        "    text = text.str.replace(r'\\n{1,}', '')\n",
        "    text = text.str.replace(r'={1,}', ' ')\n",
        "    text = text.str.replace(r'-{2,}', ' ')\n",
        "    text = text.str.replace(r'\\*{1,}', ' ')\n",
        "    text = text.str.replace(r'&nbsp{1,}', ' ')\n",
        "    text = text.str.replace(r'\\t', ' ')\n",
        "    text = text.str.replace(r'\\s{1,}', ' ')\n",
        "    text = text.str.strip()\n",
        "    text = text.str.lower()\n",
        "    return text"
      ],
      "metadata": {
        "id": "_aujJTyqcj38"
      },
      "execution_count": 7,
      "outputs": []
    },
    {
      "cell_type": "code",
      "source": [
        "train['Subject'] = subject_cleaner(train['Subject'])\n",
        "test['Subject'] = subject_cleaner(test['Subject'])\n",
        "train['Text'] = body_cleaner(train['Text'])\n",
        "test['Text'] = body_cleaner(test['Text'])"
      ],
      "metadata": {
        "id": "fuWF3qcEc1-n"
      },
      "execution_count": 8,
      "outputs": []
    },
    {
      "cell_type": "code",
      "source": [
        "train['Content-Type'] = train['Content-Type'].apply(lambda x: x.lower().split(';')[0])"
      ],
      "metadata": {
        "id": "71RCHCAYA39L"
      },
      "execution_count": 9,
      "outputs": []
    },
    {
      "cell_type": "code",
      "source": [
        "test['Content-Type'] = test['Content-Type'].str.lower().str.strip()\n",
        "test['Content-Type'] = test['Content-Type'].apply(lambda x: str(x).split(';')[0])\n",
        "test['Content-Type'][test['Content-Type']=='nan'] = ''\n",
        "test['Content-Type'][test['Content-Type']==''] = 'no_type'\n",
        "test['Content-Type'][test['Content-Type'] == 'text/html content-transfer-encoding: 8bit\\\\r\\\\n'] = 'text/html'"
      ],
      "metadata": {
        "id": "9fGgjz8bDrXP"
      },
      "execution_count": 10,
      "outputs": []
    },
    {
      "cell_type": "code",
      "source": [
        "#нераспарсеная почта\n",
        "test['Text'] = test['Text'].fillna('email')"
      ],
      "metadata": {
        "id": "ZmKATFikckVY"
      },
      "execution_count": 11,
      "outputs": []
    },
    {
      "cell_type": "code",
      "source": [
        "test['Subject'] = test['Subject'].fillna('')"
      ],
      "metadata": {
        "id": "yTWvcsk4iUuu"
      },
      "execution_count": 12,
      "outputs": []
    },
    {
      "cell_type": "markdown",
      "source": [
        "## Токенизация"
      ],
      "metadata": {
        "id": "SvsUV7Ygv4zt"
      }
    },
    {
      "cell_type": "code",
      "source": [
        "tfidf_word = TfidfVectorizer(\n",
        "    #norm='l2',\n",
        "    analyzer='word',\n",
        "    ngram_range=(1, 3),\n",
        "    )\n",
        "tfidf_word.fit(train['Text'])\n",
        "train_w = tfidf_word.transform(train['Text'])\n",
        "test_w = tfidf_word.transform(test['Text'])"
      ],
      "metadata": {
        "id": "lrgCLLq_n3we"
      },
      "execution_count": 13,
      "outputs": []
    },
    {
      "cell_type": "code",
      "source": [
        "tfidf_char = TfidfVectorizer(\n",
        "    analyzer='char_wb',\n",
        "    ngram_range=(2, 7),\n",
        "    )\n",
        "tfidf_char.fit(train['Text'])\n",
        "train_ch = tfidf_char.transform(train['Text'])\n",
        "test_ch = tfidf_char.transform(test['Text'])"
      ],
      "metadata": {
        "id": "SDqRcLyns_16"
      },
      "execution_count": 14,
      "outputs": []
    },
    {
      "cell_type": "code",
      "source": [
        "train_data = hstack([train_w,train_ch])\n",
        "test_data = hstack([test_w, test_ch])"
      ],
      "metadata": {
        "id": "k5wTFglBpjgO"
      },
      "execution_count": 15,
      "outputs": []
    },
    {
      "cell_type": "markdown",
      "source": [
        "## Модель"
      ],
      "metadata": {
        "id": "yiSZyiLQwDCm"
      }
    },
    {
      "cell_type": "code",
      "source": [
        "%%time\n",
        "clf = OneClassSVM().fit(train_data)"
      ],
      "metadata": {
        "id": "WdD02JgK6zPB"
      },
      "execution_count": 16,
      "outputs": []
    },
    {
      "cell_type": "code",
      "source": [
        "%%time\n",
        "pred = clf.predict(test_data)"
      ],
      "metadata": {
        "id": "PIsfUMqa68of"
      },
      "execution_count": 17,
      "outputs": []
    },
    {
      "cell_type": "code",
      "source": [
        "# я меняю здесь местами 0 и 1 (это сделано специально, чтобы сделать микс с баллами по чеку, см.ниже)\n",
        "# если хотите посмотреть скор по тексту, удалите эту запись и добавьте pred[pred == -1] = 0\n",
        "pred[pred == 1] = 0\n",
        "pred[pred == -1] = 1"
      ],
      "metadata": {
        "id": "_Kf1vw8OAkNw"
      },
      "execution_count": 18,
      "outputs": []
    },
    {
      "cell_type": "code",
      "source": [
        "test['Predict_model'] = pred"
      ],
      "metadata": {
        "id": "y-a98_RV8jqY"
      },
      "execution_count": 20,
      "outputs": []
    },
    {
      "cell_type": "markdown",
      "source": [
        "## Дополнительный check для теста"
      ],
      "metadata": {
        "id": "93MS6TfG0apY"
      }
    },
    {
      "cell_type": "markdown",
      "source": [
        "### тест отправителя From\n",
        "- enron - 0, \n",
        "- внешние - 1"
      ],
      "metadata": {
        "id": "UQ21iDmV1Xro"
      }
    },
    {
      "cell_type": "code",
      "source": [
        "test['check_email'] = test['From'].str.contains('~@enron') * 1"
      ],
      "metadata": {
        "id": "sOfs0lLq1SgI"
      },
      "execution_count": 21,
      "outputs": []
    },
    {
      "cell_type": "markdown",
      "source": [
        "### тест на наличие warning words в теме письма\n",
        "- 1 слово - 0.5 баллов, \n",
        "- 2 слова и более - 1 бал, \n",
        "- 0 баллов нет"
      ],
      "metadata": {
        "id": "rd5uMzpL2EsK"
      }
    },
    {
      "cell_type": "code",
      "source": [
        "wwords = ['payment', 'urgent', 'bank', 'account', 'access', 'block', 'limit', 'confirm', 'important',\n",
        "'password', 'require', 'file', 'download', 'request', 'security', 'validat', 'suspend', 'verificat',\n",
        "'update', 'cash', 'fraud', 'error', 'alert', 'lock', 'card', 'bill', 'official', 'online', 'secure',\n",
        "'profile', 'modif', 'deposit', 'offer', 'verif', 'inquiry', 'free', 'unusual', 'identif', \n",
        "]"
      ],
      "metadata": {
        "id": "QR3pYrwC2IcO"
      },
      "execution_count": 22,
      "outputs": []
    },
    {
      "cell_type": "code",
      "source": [
        "def check_sub(x):\n",
        "  cnt = 0\n",
        "  x = re.sub(r'[^A-Za-z]', ' ', x)\n",
        "  for i in x.split():\n",
        "    if i in wwords:\n",
        "     cnt += 1\n",
        "  if cnt == 0:\n",
        "    return 0\n",
        "  if cnt == 1:\n",
        "    return 0.5\n",
        "  if cnt > 1:\n",
        "    return 1"
      ],
      "metadata": {
        "id": "7FbwV3u82Ihh"
      },
      "execution_count": 23,
      "outputs": []
    },
    {
      "cell_type": "code",
      "source": [
        "test['check_subject'] = test['Subject'].apply(check_sub)"
      ],
      "metadata": {
        "id": "6aLyjKLw0Lrv"
      },
      "execution_count": 24,
      "outputs": []
    },
    {
      "cell_type": "markdown",
      "source": [
        "### тест на наличие warning words в теле письма\n",
        "- 1 слово - 0.5 баллов, \n",
        "- 2 слова и более - 1 бал, \n",
        "- 0 баллов нет"
      ],
      "metadata": {
        "id": "G5FmKLioLUWz"
      }
    },
    {
      "cell_type": "code",
      "source": [
        "test['check_body'] = test['Text'].apply(check_sub)"
      ],
      "metadata": {
        "id": "FISm5Om_LnE4"
      },
      "execution_count": 25,
      "outputs": []
    },
    {
      "cell_type": "markdown",
      "source": [
        "### тест на наличие http ссылок, за исключением номинального имени сайта, в теле письма\n",
        "- есть - 1 бал,\n",
        "- нет - 0 баллов"
      ],
      "metadata": {
        "id": "UVYcRbu3L3fX"
      }
    },
    {
      "cell_type": "code",
      "source": [
        "test['check_text_http'] = test['Text'].str.contains(r'(http|https):\\/\\/.+?(?=\\/)\\/\\w') * 1"
      ],
      "metadata": {
        "colab": {
          "base_uri": "https://localhost:8080/"
        },
        "id": "2QLTXbNPLTq6",
        "outputId": "57839a3e-2d1e-4452-f00a-f9e9476630fb"
      },
      "execution_count": 26,
      "outputs": [
        {
          "output_type": "stream",
          "name": "stderr",
          "text": [
            "/usr/local/lib/python3.7/dist-packages/pandas/core/strings.py:2001: UserWarning: This pattern has match groups. To actually get the groups, use str.extract.\n",
            "  return func(self, *args, **kwargs)\n"
          ]
        }
      ]
    },
    {
      "cell_type": "markdown",
      "source": [
        "### тест столбца Content-Type\n",
        "- чистый текст - 0 балов,\n",
        "- ссылки, вставки и тд - 3 балла"
      ],
      "metadata": {
        "id": "8g2gwSNg7XAJ"
      }
    },
    {
      "cell_type": "code",
      "source": [
        "test['check_content_type']=test['Content-Type'].apply(lambda x: 0 if x == 'text/plain'else 3)"
      ],
      "metadata": {
        "id": "vqoEf70l7QNN"
      },
      "execution_count": 27,
      "outputs": []
    },
    {
      "cell_type": "markdown",
      "source": [
        "### сумируем check"
      ],
      "metadata": {
        "id": "ofaAa97ybv2h"
      }
    },
    {
      "cell_type": "code",
      "source": [
        "test['sum_check'] = test['check_email'] + test['check_subject'] + test['check_body'] + test['check_text_http']+test['check_content_type'] "
      ],
      "metadata": {
        "id": "uZ70h1G_bemp"
      },
      "execution_count": 28,
      "outputs": []
    },
    {
      "cell_type": "code",
      "source": [
        ""
      ],
      "metadata": {
        "id": "MfzUJAsnAC7N"
      },
      "execution_count": 28,
      "outputs": []
    },
    {
      "cell_type": "markdown",
      "source": [
        "### Миксуем"
      ],
      "metadata": {
        "id": "96WYoqoXADg0"
      }
    },
    {
      "cell_type": "code",
      "source": [
        "test['sum_score'] = test['Predict_model'] + test['sum_check']"
      ],
      "metadata": {
        "id": "0xaMHSRPAQ28"
      },
      "execution_count": 40,
      "outputs": []
    },
    {
      "cell_type": "code",
      "source": [
        "test['Label']= test['sum_score'].apply(lambda x: 0 if x >= 4 else 1)"
      ],
      "metadata": {
        "id": "owIHwmPv-CeT"
      },
      "execution_count": 41,
      "outputs": []
    },
    {
      "cell_type": "markdown",
      "source": [
        "## Выгрузка"
      ],
      "metadata": {
        "id": "F-QmDH-d0NDB"
      }
    },
    {
      "cell_type": "code",
      "source": [
        "test[['X-UID', 'Label']].to_csv('Result.csv', index=False)"
      ],
      "metadata": {
        "id": "ZFEAqLftNH7D"
      },
      "execution_count": 33,
      "outputs": []
    }
  ]
}